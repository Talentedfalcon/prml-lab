{
 "cells": [
  {
   "cell_type": "markdown",
   "metadata": {},
   "source": [
    "Array Creation and Basic Operations"
   ]
  },
  {
   "cell_type": "code",
   "execution_count": 34,
   "metadata": {},
   "outputs": [
    {
     "data": {
      "text/plain": [
       "array([ 0,  1,  2,  3,  4,  5,  6,  7,  8,  9, 10, 11, 12, 13, 14, 15, 16,\n",
       "       17, 18, 19])"
      ]
     },
     "execution_count": 34,
     "metadata": {},
     "output_type": "execute_result"
    }
   ],
   "source": [
    "import numpy as np\n",
    "\n",
    "arr1=np.arange(0,20)\n",
    "arr1"
   ]
  },
  {
   "cell_type": "code",
   "execution_count": 35,
   "metadata": {},
   "outputs": [
    {
     "data": {
      "text/plain": [
       "array([[ 0,  1,  2,  3,  4],\n",
       "       [ 5,  6,  7,  8,  9],\n",
       "       [10, 11, 12, 13, 14],\n",
       "       [15, 16, 17, 18, 19]])"
      ]
     },
     "execution_count": 35,
     "metadata": {},
     "output_type": "execute_result"
    }
   ],
   "source": [
    "arr1=arr1.reshape(4,5)\n",
    "arr1"
   ]
  },
  {
   "cell_type": "code",
   "execution_count": 36,
   "metadata": {},
   "outputs": [
    {
     "data": {
      "text/plain": [
       "array([[0., 0., 0.],\n",
       "       [0., 0., 0.],\n",
       "       [0., 0., 0.]])"
      ]
     },
     "metadata": {},
     "output_type": "display_data"
    },
    {
     "data": {
      "text/plain": [
       "array([[1., 1., 1.],\n",
       "       [1., 1., 1.],\n",
       "       [1., 1., 1.]])"
      ]
     },
     "metadata": {},
     "output_type": "display_data"
    }
   ],
   "source": [
    "display(np.zeros(shape=(3,3)))\n",
    "\n",
    "display(np.ones(shape=(3,3)))"
   ]
  },
  {
   "cell_type": "code",
   "execution_count": 37,
   "metadata": {},
   "outputs": [
    {
     "data": {
      "text/plain": [
       "array([  1.,  12.,  23.,  34.,  45.,  56.,  67.,  78.,  89., 100.])"
      ]
     },
     "execution_count": 37,
     "metadata": {},
     "output_type": "execute_result"
    }
   ],
   "source": [
    "arr2=np.linspace(1,100,10)\n",
    "arr2"
   ]
  },
  {
   "cell_type": "markdown",
   "metadata": {},
   "source": [
    "Indexing, Slicing, and Iterating"
   ]
  },
  {
   "cell_type": "code",
   "execution_count": 38,
   "metadata": {},
   "outputs": [
    {
     "name": "stdout",
     "output_type": "stream",
     "text": [
      "13\n",
      "[5 6 7 8 9]\n",
      "[ 4  9 14 19]\n"
     ]
    }
   ],
   "source": [
    "print(arr1[2,3])\n",
    "print(arr1[1])\n",
    "print(arr1[:,-1])"
   ]
  },
  {
   "cell_type": "code",
   "execution_count": 39,
   "metadata": {},
   "outputs": [
    {
     "data": {
      "text/plain": [
       "array([[ 0,  1,  2,  3,  4],\n",
       "       [ 9,  8,  7,  6,  5],\n",
       "       [10, 11, 12, 13, 14],\n",
       "       [15, 16, 17, 18, 19]])"
      ]
     },
     "execution_count": 39,
     "metadata": {},
     "output_type": "execute_result"
    }
   ],
   "source": [
    "arr1[1]=arr1[1][::-1]\n",
    "arr1"
   ]
  },
  {
   "cell_type": "code",
   "execution_count": 40,
   "metadata": {},
   "outputs": [
    {
     "name": "stdout",
     "output_type": "stream",
     "text": [
      "[[31 92 41]\n",
      " [46 99 86]\n",
      " [58 74 83]]\n",
      "[92 99 86 58 74 83]\n"
     ]
    }
   ],
   "source": [
    "random_arr=np.random.randint(1,100,(3,3))\n",
    "print(random_arr)\n",
    "print(random_arr[random_arr>50])"
   ]
  },
  {
   "cell_type": "markdown",
   "metadata": {},
   "source": [
    "Conditional Statements and Boolean Operations"
   ]
  },
  {
   "cell_type": "code",
   "execution_count": 41,
   "metadata": {},
   "outputs": [
    {
     "data": {
      "text/plain": [
       "array([[12,  5,  8, 47, 43],\n",
       "       [17, 83, 97, 55, 71],\n",
       "       [96, 28, 91, 40, 20],\n",
       "       [54, 90, 10, 74, 50],\n",
       "       [82, 16,  1, 43, 72]], dtype=int32)"
      ]
     },
     "execution_count": 41,
     "metadata": {},
     "output_type": "execute_result"
    }
   ],
   "source": [
    "random_arr=np.random.randint(0,100,(5,5))\n",
    "random_arr"
   ]
  },
  {
   "cell_type": "code",
   "execution_count": 42,
   "metadata": {},
   "outputs": [
    {
     "data": {
      "text/plain": [
       "array([[False, False, False,  True,  True],\n",
       "       [False, False, False,  True, False],\n",
       "       [False, False, False,  True, False],\n",
       "       [ True, False, False, False,  True],\n",
       "       [False, False, False,  True, False]])"
      ]
     },
     "execution_count": 42,
     "metadata": {},
     "output_type": "execute_result"
    }
   ],
   "source": [
    "bool_mask=(random_arr<=70) & (random_arr>=30)\n",
    "bool_mask"
   ]
  },
  {
   "cell_type": "code",
   "execution_count": 43,
   "metadata": {},
   "outputs": [
    {
     "data": {
      "text/plain": [
       "array([[-1, -1, -1, 47, 43],\n",
       "       [-1, -1, -1, 55, -1],\n",
       "       [-1, -1, -1, 40, -1],\n",
       "       [54, -1, -1, -1, 50],\n",
       "       [-1, -1, -1, 43, -1]], dtype=int32)"
      ]
     },
     "execution_count": 43,
     "metadata": {},
     "output_type": "execute_result"
    }
   ],
   "source": [
    "random_arr[bool_mask==False]=-1\n",
    "random_arr"
   ]
  },
  {
   "cell_type": "markdown",
   "metadata": {},
   "source": [
    "Basic Mathematical Operations"
   ]
  },
  {
   "cell_type": "code",
   "execution_count": 44,
   "metadata": {},
   "outputs": [
    {
     "name": "stdout",
     "output_type": "stream",
     "text": [
      "[[4 1 2]\n",
      " [9 1 8]\n",
      " [8 6 8]]\n",
      "[[1 4 6]\n",
      " [7 9 6]\n",
      " [5 1 9]]\n"
     ]
    }
   ],
   "source": [
    "rarr1=np.random.randint(1,10,(3,3))\n",
    "rarr2=np.random.randint(1,10,(3,3))\n",
    "\n",
    "print(rarr1)\n",
    "print(rarr2)"
   ]
  },
  {
   "cell_type": "code",
   "execution_count": 45,
   "metadata": {},
   "outputs": [
    {
     "name": "stdout",
     "output_type": "stream",
     "text": [
      "[[ 5  5  8]\n",
      " [16 10 14]\n",
      " [13  7 17]]\n"
     ]
    }
   ],
   "source": [
    "print(rarr1+rarr2)"
   ]
  },
  {
   "cell_type": "code",
   "execution_count": 46,
   "metadata": {},
   "outputs": [
    {
     "name": "stdout",
     "output_type": "stream",
     "text": [
      "[[ 3 -3 -4]\n",
      " [ 2 -8  2]\n",
      " [ 3  5 -1]]\n"
     ]
    }
   ],
   "source": [
    "print(rarr1-rarr2)"
   ]
  },
  {
   "cell_type": "code",
   "execution_count": 47,
   "metadata": {},
   "outputs": [
    {
     "name": "stdout",
     "output_type": "stream",
     "text": [
      "[[ 4  4 12]\n",
      " [63  9 48]\n",
      " [40  6 72]]\n"
     ]
    }
   ],
   "source": [
    "print(rarr1*rarr2)"
   ]
  },
  {
   "cell_type": "code",
   "execution_count": 48,
   "metadata": {},
   "outputs": [
    {
     "name": "stdout",
     "output_type": "stream",
     "text": [
      "[[4.         0.25       0.33333333]\n",
      " [1.28571429 0.11111111 1.33333333]\n",
      " [1.6        6.         0.88888889]]\n"
     ]
    }
   ],
   "source": [
    "print(rarr1/rarr2)"
   ]
  },
  {
   "cell_type": "code",
   "execution_count": 49,
   "metadata": {},
   "outputs": [
    {
     "name": "stdout",
     "output_type": "stream",
     "text": [
      "[[ 21  27  48]\n",
      " [ 56  53 132]\n",
      " [ 90  94 156]]\n"
     ]
    }
   ],
   "source": [
    "print(rarr1.dot(rarr2))"
   ]
  },
  {
   "cell_type": "markdown",
   "metadata": {},
   "source": [
    "Universal Functions"
   ]
  },
  {
   "cell_type": "code",
   "execution_count": 50,
   "metadata": {},
   "outputs": [
    {
     "name": "stdout",
     "output_type": "stream",
     "text": [
      "[[-1 -1 -1 47 43]\n",
      " [-1 -1 -1 55 -1]\n",
      " [-1 -1 -1 40 -1]\n",
      " [54 -1 -1 -1 50]\n",
      " [-1 -1 -1 43 -1]]\n",
      "Mean: 12.56\n",
      "Std. Deviation: [22.57077757 22.4        16.4        25.99538421 17.6       ]\n",
      "Variance: [484.     0.     0.   382.56 546.4 ]\n",
      "Median: -1.0\n",
      "Min: [-1 -1 -1 -1 -1]\n",
      "Max: [47 55 40 54 43]\n"
     ]
    }
   ],
   "source": [
    "print(random_arr)\n",
    "\n",
    "print(f\"Mean: {np.mean(random_arr)}\")\n",
    "print(f\"Std. Deviation: {np.std(random_arr,axis=1)}\")\n",
    "print(f\"Variance: {np.var(random_arr,axis=0)}\")\n",
    "print(f\"Median: {np.median(random_arr)}\")\n",
    "print(f\"Min: {random_arr.min(axis=1)}\")\n",
    "print(f\"Max: {random_arr.max(axis=1)}\")"
   ]
  },
  {
   "cell_type": "markdown",
   "metadata": {},
   "source": [
    "Shape Manipulation"
   ]
  },
  {
   "cell_type": "code",
   "execution_count": 51,
   "metadata": {},
   "outputs": [
    {
     "data": {
      "text/plain": [
       "array([41, 50, 24, 63, 63, 43,  0, 63, 37, 40, 41, 40, 44, 40, 67, 31, 43,\n",
       "       34, 39,  8, 31, 38, 94, 53], dtype=int32)"
      ]
     },
     "execution_count": 51,
     "metadata": {},
     "output_type": "execute_result"
    }
   ],
   "source": [
    "rarr=np.random.randint(0,100,24)\n",
    "rarr"
   ]
  },
  {
   "cell_type": "code",
   "execution_count": 52,
   "metadata": {},
   "outputs": [
    {
     "data": {
      "text/plain": [
       "array([[41, 50, 24, 63, 63, 43],\n",
       "       [ 0, 63, 37, 40, 41, 40],\n",
       "       [44, 40, 67, 31, 43, 34],\n",
       "       [39,  8, 31, 38, 94, 53]], dtype=int32)"
      ]
     },
     "execution_count": 52,
     "metadata": {},
     "output_type": "execute_result"
    }
   ],
   "source": [
    "rarr=rarr.reshape(4,6)\n",
    "rarr"
   ]
  },
  {
   "cell_type": "code",
   "execution_count": 53,
   "metadata": {},
   "outputs": [
    {
     "data": {
      "text/plain": [
       "array([41, 50, 24, 63, 63, 43,  0, 63, 37, 40, 41, 40, 44, 40, 67, 31, 43,\n",
       "       34, 39,  8, 31, 38, 94, 53], dtype=int32)"
      ]
     },
     "execution_count": 53,
     "metadata": {},
     "output_type": "execute_result"
    }
   ],
   "source": [
    "rarr.flatten()"
   ]
  },
  {
   "cell_type": "code",
   "execution_count": 54,
   "metadata": {},
   "outputs": [
    {
     "data": {
      "text/plain": [
       "array([[41,  0, 44, 39],\n",
       "       [50, 63, 40,  8],\n",
       "       [24, 37, 67, 31],\n",
       "       [63, 40, 31, 38],\n",
       "       [63, 41, 43, 94],\n",
       "       [43, 40, 34, 53]], dtype=int32)"
      ]
     },
     "execution_count": 54,
     "metadata": {},
     "output_type": "execute_result"
    }
   ],
   "source": [
    "rarr=rarr.transpose()\n",
    "rarr"
   ]
  },
  {
   "cell_type": "code",
   "execution_count": 55,
   "metadata": {},
   "outputs": [
    {
     "name": "stdout",
     "output_type": "stream",
     "text": [
      "[[ 1  0  4]\n",
      " [ 4  6  3]\n",
      " [ 1  4  4]\n",
      " [18 13 11]\n",
      " [19 13 15]\n",
      " [15 13 12]]\n",
      "\n",
      "[[ 1  0  4 22 24 23 23 24 25]\n",
      " [ 4  6  3 29 24 29 26 23 29]\n",
      " [ 1  4  4 22 26 25 25 25 25]\n",
      " [18 13 11 25 26 27 27 25 21]\n",
      " [19 13 15 24 26 24 26 27 23]\n",
      " [15 13 12 21 26 23 22 28 24]]\n"
     ]
    }
   ],
   "source": [
    "temp_arr1=np.random.randint(0,10,(3,3))\n",
    "temp_arr2=np.random.randint(11,20,(3,3))\n",
    "\n",
    "arr=np.vstack((temp_arr1,temp_arr2))\n",
    "print(arr)\n",
    "\n",
    "print()\n",
    "\n",
    "temp_arr3=np.random.randint(21,30,(6,6))\n",
    "\n",
    "arr=np.hstack((arr,temp_arr3))\n",
    "\n",
    "print(arr)"
   ]
  },
  {
   "cell_type": "markdown",
   "metadata": {},
   "source": [
    "Copy Methods"
   ]
  },
  {
   "cell_type": "code",
   "execution_count": 56,
   "metadata": {},
   "outputs": [
    {
     "name": "stdout",
     "output_type": "stream",
     "text": [
      "[[56 79  7]\n",
      " [76 71 24]\n",
      " [26 85 99]]\n"
     ]
    }
   ],
   "source": [
    "arr=np.random.randint(0,100,(3,3))\n",
    "print(arr)"
   ]
  },
  {
   "cell_type": "code",
   "execution_count": 57,
   "metadata": {},
   "outputs": [
    {
     "name": "stdout",
     "output_type": "stream",
     "text": [
      "[[-1 79  7]\n",
      " [76 71 24]\n",
      " [26 85 99]]\n",
      "[[-1 79  7]\n",
      " [76 71 24]\n",
      " [26 85 99]]\n"
     ]
    }
   ],
   "source": [
    "arr_copy=arr\n",
    "arr_copy[0][0]=-1\n",
    "#This is more like a reference to the original array\n",
    "print(arr)\n",
    "print(arr_copy)"
   ]
  },
  {
   "cell_type": "code",
   "execution_count": 58,
   "metadata": {},
   "outputs": [
    {
     "name": "stdout",
     "output_type": "stream",
     "text": [
      "[[-1 79  7]\n",
      " [76 -1 24]\n",
      " [26 85 99]]\n",
      "[[-1 79  7]\n",
      " [76 -1 24]\n",
      " [26 85 99]]\n"
     ]
    }
   ],
   "source": [
    "arr_copy=arr.view()\n",
    "arr_copy[1][1]=-1\n",
    "#This is the view of the original array i.e. has the same memory location\n",
    "print(arr)\n",
    "print(arr_copy)"
   ]
  },
  {
   "cell_type": "code",
   "execution_count": 59,
   "metadata": {},
   "outputs": [
    {
     "name": "stdout",
     "output_type": "stream",
     "text": [
      "[[-1 79  7]\n",
      " [76 -1 24]\n",
      " [26 85 99]]\n",
      "[[-1 79  7]\n",
      " [76 -1 24]\n",
      " [26 85 -1]]\n"
     ]
    }
   ],
   "source": [
    "arr_copy=arr.copy()\n",
    "arr_copy[2][2]=-1\n",
    "#Here a complete new copy is created with the same values as the original but without directly referencing it\n",
    "print(arr)\n",
    "print(arr_copy)"
   ]
  },
  {
   "cell_type": "markdown",
   "metadata": {},
   "source": [
    "Handling NULL Values"
   ]
  },
  {
   "cell_type": "code",
   "execution_count": 60,
   "metadata": {},
   "outputs": [
    {
     "data": {
      "text/plain": [
       "array([[       nan, 0.6243679 , 0.18357449, 0.43226471],\n",
       "       [0.24222607,        nan, 0.61190332, 0.93449712],\n",
       "       [0.75245452, 0.0014004 ,        nan, 0.83316102],\n",
       "       [0.77198043, 0.05912241, 0.35781017,        nan]])"
      ]
     },
     "execution_count": 60,
     "metadata": {},
     "output_type": "execute_result"
    }
   ],
   "source": [
    "arr=np.random.rand(4,4)\n",
    "np.fill_diagonal(a=arr,val=np.nan)\n",
    "arr"
   ]
  },
  {
   "cell_type": "code",
   "execution_count": 61,
   "metadata": {},
   "outputs": [
    {
     "data": {
      "text/plain": [
       "array([[ True, False, False, False],\n",
       "       [False,  True, False, False],\n",
       "       [False, False,  True, False],\n",
       "       [False, False, False,  True]])"
      ]
     },
     "execution_count": 61,
     "metadata": {},
     "output_type": "execute_result"
    }
   ],
   "source": [
    "bool_mask=np.isnan(arr)\n",
    "bool_mask"
   ]
  },
  {
   "cell_type": "code",
   "execution_count": 62,
   "metadata": {},
   "outputs": [
    {
     "data": {
      "text/plain": [
       "np.float64(0.48373021266913047)"
      ]
     },
     "execution_count": 62,
     "metadata": {},
     "output_type": "execute_result"
    }
   ],
   "source": [
    "np.nanmean(arr)"
   ]
  },
  {
   "cell_type": "markdown",
   "metadata": {},
   "source": [
    "Advanced Challenge"
   ]
  },
  {
   "cell_type": "code",
   "execution_count": 63,
   "metadata": {},
   "outputs": [
    {
     "data": {
      "text/plain": [
       "array([[84, 15, 51, 86, 68, 22,  4, 50, 36, 75],\n",
       "       [89, 24, 90, 15, 40, 24, 10, 18, 40,  1],\n",
       "       [49, 30, 11, 48, 24, 49, 17, 76, 86, 73],\n",
       "       [79, 80, 33, 44, 66, 98, 47,  7, 80, 90],\n",
       "       [89, 88,  1, 30, 11, 94, 47, 89, 90, 95],\n",
       "       [36, 37, 74, 77, 27, 21, 27, 27, 94, 40],\n",
       "       [60, 37,  7,  5, 58, 43, 95, 88, 48, 67],\n",
       "       [25, 88, 96, 44, 85, 76, 89, 31, 23, 28],\n",
       "       [46, 69, 60, 63, 77, 76, 99, 50, 56,  1],\n",
       "       [24, 40, 55, 28, 59, 34, 55, 33, 97, 58]], dtype=int32)"
      ]
     },
     "execution_count": 63,
     "metadata": {},
     "output_type": "execute_result"
    }
   ],
   "source": [
    "arr=np.random.randint(1,100,(10,10))\n",
    "arr"
   ]
  },
  {
   "cell_type": "code",
   "execution_count": 64,
   "metadata": {},
   "outputs": [
    {
     "data": {
      "text/plain": [
       "array([95, 96, 97, 98, 99], dtype=int32)"
      ]
     },
     "execution_count": 64,
     "metadata": {},
     "output_type": "execute_result"
    }
   ],
   "source": [
    "y=arr.flatten()\n",
    "y=np.unique(y)\n",
    "y[-5:]"
   ]
  },
  {
   "cell_type": "code",
   "execution_count": 65,
   "metadata": {},
   "outputs": [
    {
     "name": "stdout",
     "output_type": "stream",
     "text": [
      "[[ 84  99 150 236 304 326 330 380 416 491]\n",
      " [ 89 113 203 218 258 282 292 310 350 351]\n",
      " [ 49  79  90 138 162 211 228 304 390 463]\n",
      " [ 79 159 192 236 302 400 447 454 534 624]\n",
      " [ 89 177 178 208 219 313 360 449 539 634]\n",
      " [ 36  73 147 224 251 272 299 326 420 460]\n",
      " [ 60  97 104 109 167 210 305 393 441 508]\n",
      " [ 25 113 209 253 338 414 503 534 557 585]\n",
      " [ 46 115 175 238 315 391 490 540 596 597]\n",
      " [ 24  64 119 147 206 240 295 328 425 483]]\n"
     ]
    },
    {
     "data": {
      "text/plain": [
       "array([[ 2.4,  6.4, 11.9, 14.7, 20.6, 24. , 29.5, 32.8, 42.5, 48.3]])"
      ]
     },
     "execution_count": 65,
     "metadata": {},
     "output_type": "execute_result"
    }
   ],
   "source": [
    "temp=np.cumsum(arr,axis=1)\n",
    "print(temp)\n",
    "temp[:][10:]=temp[:][10:]-temp[:][:-10]\n",
    "temp[:][10-1:]/10"
   ]
  },
  {
   "cell_type": "code",
   "execution_count": 66,
   "metadata": {},
   "outputs": [
    {
     "name": "stdout",
     "output_type": "stream",
     "text": [
      "[1. 1. 1. 1. 1. 1. 1. 1. 1. 1.]\n"
     ]
    },
    {
     "data": {
      "text/plain": [
       "array([[0.14457831, 0.02952756, 0.10669456, 0.19545455, 0.13203883,\n",
       "        0.04096834, 0.00816327, 0.10660981, 0.05538462, 0.14204545],\n",
       "       [0.15318417, 0.04724409, 0.18828452, 0.03409091, 0.0776699 ,\n",
       "        0.04469274, 0.02040816, 0.03837953, 0.06153846, 0.00189394],\n",
       "       [0.08433735, 0.05905512, 0.02301255, 0.10909091, 0.04660194,\n",
       "        0.09124767, 0.03469388, 0.16204691, 0.13230769, 0.13825758],\n",
       "       [0.13597246, 0.15748031, 0.06903766, 0.1       , 0.12815534,\n",
       "        0.18249534, 0.09591837, 0.01492537, 0.12307692, 0.17045455],\n",
       "       [0.15318417, 0.17322835, 0.00209205, 0.06818182, 0.02135922,\n",
       "        0.17504655, 0.09591837, 0.18976546, 0.13846154, 0.17992424],\n",
       "       [0.06196213, 0.07283465, 0.15481172, 0.175     , 0.05242718,\n",
       "        0.03910615, 0.05510204, 0.0575693 , 0.14461538, 0.07575758],\n",
       "       [0.10327022, 0.07283465, 0.01464435, 0.01136364, 0.11262136,\n",
       "        0.08007449, 0.19387755, 0.18763326, 0.07384615, 0.12689394],\n",
       "       [0.04302926, 0.17322835, 0.20083682, 0.1       , 0.16504854,\n",
       "        0.141527  , 0.18163265, 0.06609808, 0.03538462, 0.0530303 ],\n",
       "       [0.07917384, 0.13582677, 0.12552301, 0.14318182, 0.14951456,\n",
       "        0.141527  , 0.20204082, 0.10660981, 0.08615385, 0.00189394],\n",
       "       [0.04130809, 0.07874016, 0.11506276, 0.06363636, 0.11456311,\n",
       "        0.06331471, 0.1122449 , 0.07036247, 0.14923077, 0.10984848]])"
      ]
     },
     "execution_count": 66,
     "metadata": {},
     "output_type": "execute_result"
    }
   ],
   "source": [
    "sum_column=arr.sum(axis=0)\n",
    "norm=arr/sum_column\n",
    "print(norm.sum(axis=0))\n",
    "norm"
   ]
  }
 ],
 "metadata": {
  "kernelspec": {
   "display_name": "Python 3",
   "language": "python",
   "name": "python3"
  },
  "language_info": {
   "codemirror_mode": {
    "name": "ipython",
    "version": 3
   },
   "file_extension": ".py",
   "mimetype": "text/x-python",
   "name": "python",
   "nbconvert_exporter": "python",
   "pygments_lexer": "ipython3",
   "version": "3.12.4"
  }
 },
 "nbformat": 4,
 "nbformat_minor": 2
}
