{
 "cells": [
  {
   "cell_type": "code",
   "execution_count": 4,
   "metadata": {},
   "outputs": [],
   "source": [
    "import numpy as np"
   ]
  },
  {
   "cell_type": "code",
   "execution_count": 9,
   "metadata": {},
   "outputs": [
    {
     "name": "stdout",
     "output_type": "stream",
     "text": [
      "[[0.80785209]]\n"
     ]
    }
   ],
   "source": [
    "x=np.array([[0.5,0.5,-0.5,-0.25,-0.25]])\n",
    "\n",
    "A=[[1,0.135,0.195,0.137,0.157],\n",
    "   [0.135,1,0.2,0.309,0.143],\n",
    "   [0.195,0.2,1,0.157,0.122],\n",
    "   [0.137,0.309,0.157,1,0.195],\n",
    "   [0.157,0.143,0.122,0.195,1]]\n",
    "\n",
    "quadratic_distance=np.sqrt(np.dot(np.dot(x,A),x.transpose()))\n",
    "print(quadratic_distance)"
   ]
  }
 ],
 "metadata": {
  "kernelspec": {
   "display_name": "Python 3",
   "language": "python",
   "name": "python3"
  },
  "language_info": {
   "codemirror_mode": {
    "name": "ipython",
    "version": 3
   },
   "file_extension": ".py",
   "mimetype": "text/x-python",
   "name": "python",
   "nbconvert_exporter": "python",
   "pygments_lexer": "ipython3",
   "version": "3.12.4"
  }
 },
 "nbformat": 4,
 "nbformat_minor": 2
}
