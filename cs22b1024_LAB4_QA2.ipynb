{
 "cells": [
  {
   "cell_type": "code",
   "execution_count": 1,
   "metadata": {},
   "outputs": [],
   "source": [
    "import numpy as np\n",
    "import pandas as pd"
   ]
  },
  {
   "cell_type": "code",
   "execution_count": 2,
   "metadata": {},
   "outputs": [],
   "source": [
    "def correlation_coefficient(x,y):\n",
    "    numerator=(np.sum((x-x.mean())*(y-y.mean())))\n",
    "    denominator=np.sqrt(np.sum((x-x.mean())**2)*np.sum((y-y.mean())**2))\n",
    "    coeff=numerator/denominator\n",
    "    return coeff\n",
    "\n",
    "def make_correlation_matrix(df):\n",
    "    correlation_matrix=[]\n",
    "    for i in df:\n",
    "        temp=[]\n",
    "        for j in df:\n",
    "            coeff=correlation_coefficient(df[i],df[j])\n",
    "            temp.append(coeff)\n",
    "        correlation_matrix.append(temp)\n",
    "    return pd.DataFrame(correlation_matrix,columns=df.columns,index=df.columns)"
   ]
  },
  {
   "cell_type": "code",
   "execution_count": 3,
   "metadata": {},
   "outputs": [
    {
     "data": {
      "text/plain": [
       "Hours Studied               1.000000\n",
       "Hours Watching TV          -0.981981\n",
       "Outdoor Acitivity Time      1.000000\n",
       "Hours Listening to Music   -0.200000\n",
       "Water Consumed             -0.355036\n",
       "Test Score                  1.000000\n",
       "Name: Test Score, dtype: float64"
      ]
     },
     "metadata": {},
     "output_type": "display_data"
    }
   ],
   "source": [
    "data=np.array([\n",
    "    [2,4,2,2,5,65],\n",
    "    [3,3,4,3,6,70],\n",
    "    [4,2,6,4,5,75],\n",
    "    [5,1,8,1,6,80],\n",
    "    [6,0,10,5,4,85],\n",
    "    [7,0,12,0,5,90]\n",
    "])\n",
    "columns=['Hours Studied','Hours Watching TV','Outdoor Acitivity Time','Hours Listening to Music','Water Consumed','Test Score']\n",
    "df=pd.DataFrame(data,columns=columns)\n",
    "\n",
    "display(make_correlation_matrix(df)['Test Score'])"
   ]
  },
  {
   "cell_type": "markdown",
   "metadata": {},
   "source": [
    "Positive Correlations:\n",
    "* Hours Studied\n",
    "* Outdoor Activity Time\n",
    "* Test Score\n",
    "\n",
    "Negative Correlations:\n",
    "* Hours Watching TV\n",
    "* Hours Listening to Music\n",
    "* Water Consumed"
   ]
  },
  {
   "cell_type": "markdown",
   "metadata": {},
   "source": [
    "Hours Studied vs. Test Score:\n",
    "* Hours Studied directly correlates with the Test Score. So more study time will give you a better score. "
   ]
  },
  {
   "cell_type": "markdown",
   "metadata": {},
   "source": [
    "Hours Watching TV vs. Test Score:\n",
    "* Hours Watching TV has the most negative correlation with Test Score. This implies that watching TV is very detrimental for academic performace"
   ]
  },
  {
   "cell_type": "markdown",
   "metadata": {},
   "source": [
    "Hours Listening to Music vs. Test Score:\n",
    "* Here the correlation is not too bad compared to watching TV. But more time spend listening to music does lead to lower performance in test score"
   ]
  },
  {
   "cell_type": "markdown",
   "metadata": {},
   "source": [
    "Water Consumed vs. Test Score:\n",
    "* Here it shows that drinking more water leads to less test score. But this is mostly non-sensical because water shouldn't play an major role in the test score aquired. This correlation tells us that correlation does not imply causation. "
   ]
  },
  {
   "cell_type": "markdown",
   "metadata": {},
   "source": [
    "Outdoor Activity Time vs. Test Score:\n",
    "* Now spending time outside is very good for test performance. Going outside helps refresh the mind and improves focus for future study sessions"
   ]
  }
 ],
 "metadata": {
  "kernelspec": {
   "display_name": "Python 3",
   "language": "python",
   "name": "python3"
  },
  "language_info": {
   "codemirror_mode": {
    "name": "ipython",
    "version": 3
   },
   "file_extension": ".py",
   "mimetype": "text/x-python",
   "name": "python",
   "nbconvert_exporter": "python",
   "pygments_lexer": "ipython3",
   "version": "3.12.4"
  }
 },
 "nbformat": 4,
 "nbformat_minor": 2
}
