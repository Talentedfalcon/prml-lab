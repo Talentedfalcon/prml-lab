{
 "cells": [
  {
   "cell_type": "markdown",
   "metadata": {},
   "source": [
    "### Question 1"
   ]
  },
  {
   "cell_type": "code",
   "execution_count": 1,
   "metadata": {},
   "outputs": [],
   "source": [
    "import pandas as pd\n",
    "import numpy as np\n",
    "from sklearn.naive_bayes import GaussianNB\n",
    "from sklearn.metrics import accuracy_score"
   ]
  },
  {
   "cell_type": "code",
   "execution_count": 2,
   "metadata": {},
   "outputs": [],
   "source": [
    "def calculate_covariance(x,y,mean_x,mean_y):\n",
    "    return ((np.sum((x-mean_x)*(y-mean_y)))/len(x))\n",
    "\n",
    "def get_covariance_matrix(training_set,mean_vector):\n",
    "    covariance=[]\n",
    "    n=1/training_set.shape[0]\n",
    "    temp=training_set-mean_vector\n",
    "    covariance=n*(temp.T@temp)\n",
    "    return covariance"
   ]
  },
  {
   "cell_type": "code",
   "execution_count": 3,
   "metadata": {},
   "outputs": [],
   "source": [
    "class PCA:\n",
    "    def __init__(self,components=2):\n",
    "        self.components=components\n",
    "    def fit(self,X):\n",
    "        if(0<self.components<=X.shape[1]):\n",
    "            M=X.mean()\n",
    "            cov=get_covariance_matrix(X,M)\n",
    "\n",
    "            values,vectors=np.linalg.eig(cov)\n",
    "\n",
    "            sorted_index=np.argsort(values)[::-1]\n",
    "            sorted_val=values[sorted_index]\n",
    "            sorted_vector=vectors[:,sorted_index]\n",
    "\n",
    "            # self.chosen=vectors[:,sorted_index]\n",
    "            self.chosen=sorted_vector[:,:self.components]\n",
    "        else:\n",
    "            raise Exception (\"Invalid Dimension\")\n",
    "    def transform(self,X):\n",
    "        # display(X.shape)\n",
    "        # display(self.chosen.shape)\n",
    "        return pd.DataFrame(np.real(np.dot(X,self.chosen)))"
   ]
  },
  {
   "cell_type": "code",
   "execution_count": 4,
   "metadata": {},
   "outputs": [
    {
     "name": "stdout",
     "output_type": "stream",
     "text": [
      "Reduced Dimension =  20\n"
     ]
    }
   ],
   "source": [
    "gender_df=pd.read_csv('./gender.csv',index_col=0)\n",
    "columns=['class']\n",
    "columns.extend(gender_df.columns[1:])\n",
    "gender_df.columns=columns\n",
    "\n",
    "training_df=gender_df.groupby('class').tail(390)\n",
    "test_df=gender_df.groupby('class').head(10)\n",
    "\n",
    "new_dim=20\n",
    "\n",
    "X_train=training_df.drop(['class'],axis=1)\n",
    "y_train=training_df['class']\n",
    "X_test=test_df.drop(['class'],axis=1)\n",
    "y_test=test_df['class'].to_numpy()\n",
    "\n",
    "pca=PCA(new_dim)\n",
    "pca.fit(X_train)\n",
    "\n",
    "X_train_bar=pca.transform(X_train)\n",
    "X_test_bar=pca.transform(X_test)\n",
    "print(\"Reduced Dimension = \",new_dim)"
   ]
  },
  {
   "cell_type": "code",
   "execution_count": 5,
   "metadata": {},
   "outputs": [
    {
     "name": "stdout",
     "output_type": "stream",
     "text": [
      "Accuracy: 85.0%\n"
     ]
    },
    {
     "data": {
      "text/html": [
       "<div>\n",
       "<style scoped>\n",
       "    .dataframe tbody tr th:only-of-type {\n",
       "        vertical-align: middle;\n",
       "    }\n",
       "\n",
       "    .dataframe tbody tr th {\n",
       "        vertical-align: top;\n",
       "    }\n",
       "\n",
       "    .dataframe thead th {\n",
       "        text-align: right;\n",
       "    }\n",
       "</style>\n",
       "<table border=\"1\" class=\"dataframe\">\n",
       "  <thead>\n",
       "    <tr style=\"text-align: right;\">\n",
       "      <th></th>\n",
       "      <th>0</th>\n",
       "      <th>1</th>\n",
       "      <th>2</th>\n",
       "      <th>3</th>\n",
       "      <th>4</th>\n",
       "      <th>5</th>\n",
       "      <th>6</th>\n",
       "      <th>7</th>\n",
       "      <th>8</th>\n",
       "      <th>9</th>\n",
       "      <th>10</th>\n",
       "      <th>11</th>\n",
       "      <th>12</th>\n",
       "      <th>13</th>\n",
       "      <th>14</th>\n",
       "      <th>15</th>\n",
       "      <th>16</th>\n",
       "      <th>17</th>\n",
       "      <th>18</th>\n",
       "      <th>19</th>\n",
       "    </tr>\n",
       "  </thead>\n",
       "  <tbody>\n",
       "    <tr>\n",
       "      <th>Prediction</th>\n",
       "      <td>male</td>\n",
       "      <td>male</td>\n",
       "      <td>male</td>\n",
       "      <td>male</td>\n",
       "      <td>male</td>\n",
       "      <td>male</td>\n",
       "      <td>male</td>\n",
       "      <td>female</td>\n",
       "      <td>male</td>\n",
       "      <td>male</td>\n",
       "      <td>male</td>\n",
       "      <td>male</td>\n",
       "      <td>female</td>\n",
       "      <td>female</td>\n",
       "      <td>female</td>\n",
       "      <td>female</td>\n",
       "      <td>female</td>\n",
       "      <td>female</td>\n",
       "      <td>female</td>\n",
       "      <td>female</td>\n",
       "    </tr>\n",
       "    <tr>\n",
       "      <th>True</th>\n",
       "      <td>male</td>\n",
       "      <td>male</td>\n",
       "      <td>male</td>\n",
       "      <td>male</td>\n",
       "      <td>male</td>\n",
       "      <td>male</td>\n",
       "      <td>male</td>\n",
       "      <td>male</td>\n",
       "      <td>male</td>\n",
       "      <td>male</td>\n",
       "      <td>female</td>\n",
       "      <td>female</td>\n",
       "      <td>female</td>\n",
       "      <td>female</td>\n",
       "      <td>female</td>\n",
       "      <td>female</td>\n",
       "      <td>female</td>\n",
       "      <td>female</td>\n",
       "      <td>female</td>\n",
       "      <td>female</td>\n",
       "    </tr>\n",
       "  </tbody>\n",
       "</table>\n",
       "</div>"
      ],
      "text/plain": [
       "              0     1     2     3     4     5     6       7     8     9   \\\n",
       "Prediction  male  male  male  male  male  male  male  female  male  male   \n",
       "True        male  male  male  male  male  male  male    male  male  male   \n",
       "\n",
       "                10      11      12      13      14      15      16      17  \\\n",
       "Prediction    male    male  female  female  female  female  female  female   \n",
       "True        female  female  female  female  female  female  female  female   \n",
       "\n",
       "                18      19  \n",
       "Prediction  female  female  \n",
       "True        female  female  "
      ]
     },
     "metadata": {},
     "output_type": "display_data"
    }
   ],
   "source": [
    "nb = GaussianNB()\n",
    "\n",
    "nb.fit(X_train_bar, y_train)\n",
    "\n",
    "y_pred = nb.predict(X_test_bar)\n",
    "\n",
    "print(f\"Accuracy: {accuracy_score(y_test, y_pred)*100}%\")\n",
    "display(pd.DataFrame([y_pred,y_test],index=['Prediction','True']))"
   ]
  },
  {
   "cell_type": "markdown",
   "metadata": {},
   "source": [
    "### Question 2"
   ]
  },
  {
   "cell_type": "code",
   "execution_count": 6,
   "metadata": {},
   "outputs": [
    {
     "name": "stdout",
     "output_type": "stream",
     "text": [
      "Reduced Dimension =  105\n"
     ]
    }
   ],
   "source": [
    "face_df=pd.read_csv('./face_data.csv',index_col=0)\n",
    "\n",
    "training_df=face_df.groupby('target').tail(390)\n",
    "test_df=face_df.groupby('target').head(10)\n",
    "\n",
    "new_dim=105\n",
    "\n",
    "X_train=training_df.drop(['target'],axis=1)\n",
    "y_train=training_df['target']\n",
    "X_test=test_df.drop(['target'],axis=1)\n",
    "y_test=test_df['target'].to_numpy()\n",
    "\n",
    "pca=PCA(new_dim)\n",
    "pca.fit(X_train)\n",
    "\n",
    "X_train_bar=pca.transform(X_train)\n",
    "X_test_bar=pca.transform(X_test)\n",
    "print(\"Reduced Dimension = \",new_dim)"
   ]
  },
  {
   "cell_type": "code",
   "execution_count": 7,
   "metadata": {},
   "outputs": [
    {
     "name": "stdout",
     "output_type": "stream",
     "text": [
      "Accuracy: 100.0%\n"
     ]
    },
    {
     "data": {
      "text/html": [
       "<div>\n",
       "<style scoped>\n",
       "    .dataframe tbody tr th:only-of-type {\n",
       "        vertical-align: middle;\n",
       "    }\n",
       "\n",
       "    .dataframe tbody tr th {\n",
       "        vertical-align: top;\n",
       "    }\n",
       "\n",
       "    .dataframe thead th {\n",
       "        text-align: right;\n",
       "    }\n",
       "</style>\n",
       "<table border=\"1\" class=\"dataframe\">\n",
       "  <thead>\n",
       "    <tr style=\"text-align: right;\">\n",
       "      <th></th>\n",
       "      <th>0</th>\n",
       "      <th>1</th>\n",
       "      <th>2</th>\n",
       "      <th>3</th>\n",
       "      <th>4</th>\n",
       "      <th>5</th>\n",
       "      <th>6</th>\n",
       "      <th>7</th>\n",
       "      <th>8</th>\n",
       "      <th>9</th>\n",
       "      <th>...</th>\n",
       "      <th>390</th>\n",
       "      <th>391</th>\n",
       "      <th>392</th>\n",
       "      <th>393</th>\n",
       "      <th>394</th>\n",
       "      <th>395</th>\n",
       "      <th>396</th>\n",
       "      <th>397</th>\n",
       "      <th>398</th>\n",
       "      <th>399</th>\n",
       "    </tr>\n",
       "  </thead>\n",
       "  <tbody>\n",
       "    <tr>\n",
       "      <th>Prediction</th>\n",
       "      <td>0</td>\n",
       "      <td>0</td>\n",
       "      <td>0</td>\n",
       "      <td>0</td>\n",
       "      <td>0</td>\n",
       "      <td>0</td>\n",
       "      <td>0</td>\n",
       "      <td>0</td>\n",
       "      <td>0</td>\n",
       "      <td>0</td>\n",
       "      <td>...</td>\n",
       "      <td>39</td>\n",
       "      <td>39</td>\n",
       "      <td>39</td>\n",
       "      <td>39</td>\n",
       "      <td>39</td>\n",
       "      <td>39</td>\n",
       "      <td>39</td>\n",
       "      <td>39</td>\n",
       "      <td>39</td>\n",
       "      <td>39</td>\n",
       "    </tr>\n",
       "    <tr>\n",
       "      <th>True</th>\n",
       "      <td>0</td>\n",
       "      <td>0</td>\n",
       "      <td>0</td>\n",
       "      <td>0</td>\n",
       "      <td>0</td>\n",
       "      <td>0</td>\n",
       "      <td>0</td>\n",
       "      <td>0</td>\n",
       "      <td>0</td>\n",
       "      <td>0</td>\n",
       "      <td>...</td>\n",
       "      <td>39</td>\n",
       "      <td>39</td>\n",
       "      <td>39</td>\n",
       "      <td>39</td>\n",
       "      <td>39</td>\n",
       "      <td>39</td>\n",
       "      <td>39</td>\n",
       "      <td>39</td>\n",
       "      <td>39</td>\n",
       "      <td>39</td>\n",
       "    </tr>\n",
       "  </tbody>\n",
       "</table>\n",
       "<p>2 rows × 400 columns</p>\n",
       "</div>"
      ],
      "text/plain": [
       "            0    1    2    3    4    5    6    7    8    9    ...  390  391  \\\n",
       "Prediction    0    0    0    0    0    0    0    0    0    0  ...   39   39   \n",
       "True          0    0    0    0    0    0    0    0    0    0  ...   39   39   \n",
       "\n",
       "            392  393  394  395  396  397  398  399  \n",
       "Prediction   39   39   39   39   39   39   39   39  \n",
       "True         39   39   39   39   39   39   39   39  \n",
       "\n",
       "[2 rows x 400 columns]"
      ]
     },
     "metadata": {},
     "output_type": "display_data"
    }
   ],
   "source": [
    "nb = GaussianNB()\n",
    "\n",
    "nb.fit(X_train_bar, y_train)\n",
    "\n",
    "y_pred = nb.predict(X_test_bar)\n",
    "\n",
    "print(f\"Accuracy: {accuracy_score(y_test, y_pred)*100}%\")\n",
    "display(pd.DataFrame([y_pred,y_test],index=['Prediction','True']))"
   ]
  }
 ],
 "metadata": {
  "kernelspec": {
   "display_name": "Python 3",
   "language": "python",
   "name": "python3"
  },
  "language_info": {
   "codemirror_mode": {
    "name": "ipython",
    "version": 3
   },
   "file_extension": ".py",
   "mimetype": "text/x-python",
   "name": "python",
   "nbconvert_exporter": "python",
   "pygments_lexer": "ipython3",
   "version": "3.12.4"
  }
 },
 "nbformat": 4,
 "nbformat_minor": 2
}
