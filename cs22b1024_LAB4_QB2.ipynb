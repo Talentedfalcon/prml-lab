{
 "cells": [
  {
   "cell_type": "code",
   "execution_count": 1,
   "metadata": {},
   "outputs": [],
   "source": [
    "import numpy as np\n",
    "import pandas as pd"
   ]
  },
  {
   "cell_type": "code",
   "execution_count": 2,
   "metadata": {},
   "outputs": [],
   "source": [
    "def wordFrequencyArray(filepath):\n",
    "    with open(filepath,'r') as file:\n",
    "        content=file.read()\n",
    "    word_dict={}\n",
    "    for i in content.split(\" \"):\n",
    "        if(i not in word_dict.keys()):\n",
    "            word_dict[i]=1\n",
    "        else:\n",
    "            word_dict[i]+=1\n",
    "    return word_dict\n",
    "\n",
    "def Cosine_distance(a,b):\n",
    "    return 1-(np.sum(a*b)/(np.sqrt(np.sum(a**2))*np.sqrt(np.sum(b**2))))"
   ]
  },
  {
   "cell_type": "code",
   "execution_count": 3,
   "metadata": {},
   "outputs": [
    {
     "name": "stdout",
     "output_type": "stream",
     "text": [
      "The Cosine Distance between doc1 and doc2 = 0.6938137821521027\n"
     ]
    }
   ],
   "source": [
    "x=wordFrequencyArray('./doc1.txt')\n",
    "y=wordFrequencyArray('./doc2.txt')\n",
    "\n",
    "frequencies=pd.DataFrame([x,y]).fillna(0)\n",
    "\n",
    "print(f\"The Cosine Distance between doc1 and doc2 = {Cosine_distance(frequencies.iloc[0].to_numpy(),frequencies.iloc[1].to_numpy())}\")"
   ]
  }
 ],
 "metadata": {
  "kernelspec": {
   "display_name": "Python 3",
   "language": "python",
   "name": "python3"
  },
  "language_info": {
   "codemirror_mode": {
    "name": "ipython",
    "version": 3
   },
   "file_extension": ".py",
   "mimetype": "text/x-python",
   "name": "python",
   "nbconvert_exporter": "python",
   "pygments_lexer": "ipython3",
   "version": "3.12.4"
  }
 },
 "nbformat": 4,
 "nbformat_minor": 2
}
