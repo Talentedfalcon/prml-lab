{
  "nbformat": 4,
  "nbformat_minor": 0,
  "metadata": {
    "colab": {
      "provenance": []
    },
    "kernelspec": {
      "name": "python3",
      "display_name": "Python 3"
    },
    "language_info": {
      "name": "python"
    }
  },
  "cells": [
    {
      "cell_type": "code",
      "execution_count": null,
      "metadata": {
        "id": "mr5cch57cfzr"
      },
      "outputs": [],
      "source": [
        "import numpy as np"
      ]
    },
    {
      "cell_type": "code",
      "source": [
        "numpy_arr=np.array([1,2,3,4,5])\n",
        "print(numpy_arr)"
      ],
      "metadata": {
        "colab": {
          "base_uri": "https://localhost:8080/"
        },
        "id": "OlDgUrvIcsfF",
        "outputId": "32a83f11-90c6-4691-f0a3-a0a7fbba646b"
      },
      "execution_count": null,
      "outputs": [
        {
          "output_type": "stream",
          "name": "stdout",
          "text": [
            "[1 2 3 4 5]\n"
          ]
        }
      ]
    },
    {
      "cell_type": "code",
      "source": [
        "type([1,2,3,4,5])"
      ],
      "metadata": {
        "colab": {
          "base_uri": "https://localhost:8080/"
        },
        "id": "Gzig6Z-2dbxH",
        "outputId": "ab3b8e3c-af1e-4b74-b397-6e6e49a9e7ac"
      },
      "execution_count": null,
      "outputs": [
        {
          "output_type": "execute_result",
          "data": {
            "text/plain": [
              "list"
            ]
          },
          "metadata": {},
          "execution_count": 11
        }
      ]
    },
    {
      "cell_type": "code",
      "source": [
        "type(numpy_arr)"
      ],
      "metadata": {
        "colab": {
          "base_uri": "https://localhost:8080/"
        },
        "id": "e3SZZ3dsd5QA",
        "outputId": "c755f94e-12a7-4079-dab0-9a7c26f9986d"
      },
      "execution_count": null,
      "outputs": [
        {
          "output_type": "execute_result",
          "data": {
            "text/plain": [
              "numpy.ndarray"
            ]
          },
          "metadata": {},
          "execution_count": 12
        }
      ]
    },
    {
      "cell_type": "code",
      "source": [
        "using_zeros=np.ones((3,10))\n",
        "print(using_zeros)"
      ],
      "metadata": {
        "colab": {
          "base_uri": "https://localhost:8080/"
        },
        "id": "hiqAEbl9d9I5",
        "outputId": "b8e1a514-6da4-4594-a8e2-53d19c9a72db"
      },
      "execution_count": null,
      "outputs": [
        {
          "output_type": "stream",
          "name": "stdout",
          "text": [
            "[[1. 1. 1. 1. 1. 1. 1. 1. 1. 1.]\n",
            " [1. 1. 1. 1. 1. 1. 1. 1. 1. 1.]\n",
            " [1. 1. 1. 1. 1. 1. 1. 1. 1. 1.]]\n"
          ]
        }
      ]
    },
    {
      "cell_type": "code",
      "source": [
        "arr=np.array([[1.,1.],\n",
        "       [1.,1.],\n",
        "       [1.,1.]])"
      ],
      "metadata": {
        "id": "sdDUq2xBeCTb"
      },
      "execution_count": null,
      "outputs": []
    },
    {
      "cell_type": "code",
      "source": [
        "arr=np.arange(1,100,2)\n",
        "print(arr)"
      ],
      "metadata": {
        "colab": {
          "base_uri": "https://localhost:8080/"
        },
        "id": "HgpsLGZTej0r",
        "outputId": "2575e733-4602-438f-bf6d-1d9c1841ab5b"
      },
      "execution_count": null,
      "outputs": [
        {
          "output_type": "stream",
          "name": "stdout",
          "text": [
            "[ 1  3  5  7  9 11 13 15 17 19 21 23 25 27 29 31 33 35 37 39 41 43 45 47\n",
            " 49 51 53 55 57 59 61 63 65 67 69 71 73 75 77 79 81 83 85 87 89 91 93 95\n",
            " 97 99]\n"
          ]
        }
      ]
    },
    {
      "cell_type": "code",
      "source": [
        "arr=np.linspace(1,5,25)"
      ],
      "metadata": {
        "id": "Hd7BHun8erda"
      },
      "execution_count": null,
      "outputs": []
    },
    {
      "cell_type": "code",
      "source": [
        "arr"
      ],
      "metadata": {
        "colab": {
          "base_uri": "https://localhost:8080/"
        },
        "id": "VXmOmMiIfVdR",
        "outputId": "d184fce1-dd63-41f8-ebe4-9fd1d423f8aa"
      },
      "execution_count": null,
      "outputs": [
        {
          "output_type": "execute_result",
          "data": {
            "text/plain": [
              "array([1.        , 1.16666667, 1.33333333, 1.5       , 1.66666667,\n",
              "       1.83333333, 2.        , 2.16666667, 2.33333333, 2.5       ,\n",
              "       2.66666667, 2.83333333, 3.        , 3.16666667, 3.33333333,\n",
              "       3.5       , 3.66666667, 3.83333333, 4.        , 4.16666667,\n",
              "       4.33333333, 4.5       , 4.66666667, 4.83333333, 5.        ])"
            ]
          },
          "metadata": {},
          "execution_count": 31
        }
      ]
    },
    {
      "cell_type": "code",
      "source": [
        "arr=arr.reshape((5,5))"
      ],
      "metadata": {
        "id": "e16vKJGpe7G0"
      },
      "execution_count": null,
      "outputs": []
    },
    {
      "cell_type": "code",
      "source": [
        "arr.shape"
      ],
      "metadata": {
        "colab": {
          "base_uri": "https://localhost:8080/"
        },
        "id": "B6Aw60oYfD0A",
        "outputId": "d877db6c-cbc2-46e3-a039-0f18447481d6"
      },
      "execution_count": null,
      "outputs": [
        {
          "output_type": "execute_result",
          "data": {
            "text/plain": [
              "(5, 5)"
            ]
          },
          "metadata": {},
          "execution_count": 33
        }
      ]
    },
    {
      "cell_type": "code",
      "source": [
        "arr[1:3,:2]"
      ],
      "metadata": {
        "colab": {
          "base_uri": "https://localhost:8080/"
        },
        "id": "CUcZcqS8fPTI",
        "outputId": "929a0346-fd7c-4fb1-ec77-4b8a513ae5c6"
      },
      "execution_count": null,
      "outputs": [
        {
          "output_type": "execute_result",
          "data": {
            "text/plain": [
              "array([[1.83333333, 2.        ],\n",
              "       [2.66666667, 2.83333333]])"
            ]
          },
          "metadata": {},
          "execution_count": 35
        }
      ]
    },
    {
      "cell_type": "code",
      "source": [
        "arr=np.arange(0,100,4)\n",
        "print(arr)"
      ],
      "metadata": {
        "colab": {
          "base_uri": "https://localhost:8080/"
        },
        "id": "GsCFVftQfckq",
        "outputId": "4e46a240-0127-4824-e45f-530a16287c0e"
      },
      "execution_count": null,
      "outputs": [
        {
          "output_type": "stream",
          "name": "stdout",
          "text": [
            "[ 0  4  8 12 16 20 24 28 32 36 40 44 48 52 56 60 64 68 72 76 80 84 88 92\n",
            " 96]\n"
          ]
        }
      ]
    },
    {
      "cell_type": "code",
      "source": [
        "bool_arr=arr>60\n",
        "print(bool_arr)"
      ],
      "metadata": {
        "colab": {
          "base_uri": "https://localhost:8080/"
        },
        "id": "PT6ompmBfugP",
        "outputId": "0a409804-f26c-4923-b6d4-fc3e1f0f45d2"
      },
      "execution_count": null,
      "outputs": [
        {
          "output_type": "stream",
          "name": "stdout",
          "text": [
            "[False False False False False False False False False False False False\n",
            " False False False False  True  True  True  True  True  True  True  True\n",
            "  True]\n"
          ]
        }
      ]
    },
    {
      "cell_type": "code",
      "source": [
        "arr[bool_arr]"
      ],
      "metadata": {
        "colab": {
          "base_uri": "https://localhost:8080/"
        },
        "id": "pjq03vDTf2ku",
        "outputId": "35b3df16-cef7-49db-9762-95a225224c3a"
      },
      "execution_count": null,
      "outputs": [
        {
          "output_type": "execute_result",
          "data": {
            "text/plain": [
              "array([64, 68, 72, 76, 80, 84, 88, 92, 96])"
            ]
          },
          "metadata": {},
          "execution_count": 40
        }
      ]
    },
    {
      "cell_type": "code",
      "source": [
        "print(arr>40)\n",
        "print(arr<80)\n",
        "arr[(arr>40) & (arr<80)]"
      ],
      "metadata": {
        "colab": {
          "base_uri": "https://localhost:8080/"
        },
        "id": "AgvY-RLkgIfF",
        "outputId": "811a30c2-515e-462a-a2bd-ca82d192657f"
      },
      "execution_count": null,
      "outputs": [
        {
          "output_type": "stream",
          "name": "stdout",
          "text": [
            "[False False False False False False False False False False False  True\n",
            "  True  True  True  True  True  True  True  True  True  True  True  True\n",
            "  True]\n",
            "[ True  True  True  True  True  True  True  True  True  True  True  True\n",
            "  True  True  True  True  True  True  True  True False False False False\n",
            " False]\n"
          ]
        },
        {
          "output_type": "execute_result",
          "data": {
            "text/plain": [
              "array([44, 48, 52, 56, 60, 64, 68, 72, 76])"
            ]
          },
          "metadata": {},
          "execution_count": 49
        }
      ]
    },
    {
      "cell_type": "code",
      "source": [
        "arr1=np.arange(1,5,1)\n",
        "arr2=np.arange(2,6,1)"
      ],
      "metadata": {
        "id": "Z97jsDL7gGh7"
      },
      "execution_count": null,
      "outputs": []
    },
    {
      "cell_type": "code",
      "source": [
        "add_arr=arr1+arr2\n",
        "print(add_arr)"
      ],
      "metadata": {
        "colab": {
          "base_uri": "https://localhost:8080/"
        },
        "id": "jhkrGkpRg54l",
        "outputId": "ca21947f-79b7-49fe-e6f6-c7ab52f2379c"
      },
      "execution_count": null,
      "outputs": [
        {
          "output_type": "stream",
          "name": "stdout",
          "text": [
            "[3 5 7 9]\n"
          ]
        }
      ]
    },
    {
      "cell_type": "markdown",
      "source": [
        "<h1>Universal Operators</h1>"
      ],
      "metadata": {
        "id": "6SHwWaJFg_cp"
      }
    },
    {
      "cell_type": "code",
      "source": [
        "arr=np.linspace(1,5,25)"
      ],
      "metadata": {
        "id": "ek7xf2tkhP5I"
      },
      "execution_count": null,
      "outputs": []
    },
    {
      "cell_type": "code",
      "source": [
        "print(arr)"
      ],
      "metadata": {
        "colab": {
          "base_uri": "https://localhost:8080/"
        },
        "id": "BeA6DAIaiD2a",
        "outputId": "a2357a8b-905e-4de4-a895-e6ab3a7d3461"
      },
      "execution_count": null,
      "outputs": [
        {
          "output_type": "stream",
          "name": "stdout",
          "text": [
            "[[1.         1.16666667 1.33333333 1.5        1.66666667]\n",
            " [1.83333333 2.         2.16666667 2.33333333 2.5       ]\n",
            " [2.66666667 2.83333333 3.         3.16666667 3.33333333]\n",
            " [3.5        3.66666667 3.83333333 4.         4.16666667]\n",
            " [4.33333333 4.5        4.66666667 4.83333333 5.        ]]\n"
          ]
        }
      ]
    },
    {
      "cell_type": "code",
      "source": [
        "arr=arr.reshape(5,5)"
      ],
      "metadata": {
        "id": "HlLYiMbwhx6B"
      },
      "execution_count": null,
      "outputs": []
    },
    {
      "cell_type": "code",
      "source": [
        "np.sum(arr)"
      ],
      "metadata": {
        "colab": {
          "base_uri": "https://localhost:8080/"
        },
        "id": "ZqdnOJSNiPUd",
        "outputId": "cd90f56a-05e0-412f-95c0-8948b608e8f7"
      },
      "execution_count": null,
      "outputs": [
        {
          "output_type": "execute_result",
          "data": {
            "text/plain": [
              "75.0"
            ]
          },
          "metadata": {},
          "execution_count": 68
        }
      ]
    },
    {
      "cell_type": "code",
      "source": [
        "np.sum(arr,axis=0)"
      ],
      "metadata": {
        "colab": {
          "base_uri": "https://localhost:8080/"
        },
        "id": "CH08KLq7iLbH",
        "outputId": "3d9004fc-43b6-41a9-c8fb-0ff764392aa9"
      },
      "execution_count": null,
      "outputs": [
        {
          "output_type": "execute_result",
          "data": {
            "text/plain": [
              "array([13.33333333, 14.16666667, 15.        , 15.83333333, 16.66666667])"
            ]
          },
          "metadata": {},
          "execution_count": 69
        }
      ]
    },
    {
      "cell_type": "code",
      "source": [
        "np.sum(arr,axis=1)"
      ],
      "metadata": {
        "colab": {
          "base_uri": "https://localhost:8080/"
        },
        "id": "QpY9U-6Shr-2",
        "outputId": "abe14453-fc89-4f25-85d1-9b4360a3faa3"
      },
      "execution_count": null,
      "outputs": [
        {
          "output_type": "execute_result",
          "data": {
            "text/plain": [
              "array([ 6.66666667, 10.83333333, 15.        , 19.16666667, 23.33333333])"
            ]
          },
          "metadata": {},
          "execution_count": 70
        }
      ]
    },
    {
      "cell_type": "code",
      "source": [
        "np.var(arr)"
      ],
      "metadata": {
        "colab": {
          "base_uri": "https://localhost:8080/"
        },
        "id": "TuZnM-xQh7yT",
        "outputId": "b0ffbdfd-1b16-477a-9db7-89269e364de2"
      },
      "execution_count": null,
      "outputs": [
        {
          "output_type": "execute_result",
          "data": {
            "text/plain": [
              "1.4444444444444442"
            ]
          },
          "metadata": {},
          "execution_count": 72
        }
      ]
    },
    {
      "cell_type": "code",
      "source": [
        "np.var(arr,axis=0)"
      ],
      "metadata": {
        "colab": {
          "base_uri": "https://localhost:8080/"
        },
        "id": "e9J6vsbWiT81",
        "outputId": "6336b203-6770-4e5b-88aa-f301ea51fe2a"
      },
      "execution_count": null,
      "outputs": [
        {
          "output_type": "execute_result",
          "data": {
            "text/plain": [
              "array([1.38888889, 1.38888889, 1.38888889, 1.38888889, 1.38888889])"
            ]
          },
          "metadata": {},
          "execution_count": 73
        }
      ]
    },
    {
      "cell_type": "code",
      "source": [
        "np.var(arr,axis=1)"
      ],
      "metadata": {
        "colab": {
          "base_uri": "https://localhost:8080/"
        },
        "id": "kCfA8HEliYlz",
        "outputId": "a31371a6-5757-47a2-9569-d7cd18c2410e"
      },
      "execution_count": null,
      "outputs": [
        {
          "output_type": "execute_result",
          "data": {
            "text/plain": [
              "array([0.05555556, 0.05555556, 0.05555556, 0.05555556, 0.05555556])"
            ]
          },
          "metadata": {},
          "execution_count": 74
        }
      ]
    },
    {
      "cell_type": "code",
      "source": [
        "arr.flatten().shape"
      ],
      "metadata": {
        "colab": {
          "base_uri": "https://localhost:8080/"
        },
        "id": "brG-DMEJiZx1",
        "outputId": "69fe75ed-d208-4ef9-bc79-bcef4ace04b7"
      },
      "execution_count": null,
      "outputs": [
        {
          "output_type": "execute_result",
          "data": {
            "text/plain": [
              "(25,)"
            ]
          },
          "metadata": {},
          "execution_count": 75
        }
      ]
    },
    {
      "cell_type": "code",
      "source": [
        "l1=np.array([1,2,3,4,5]) #no copy\n",
        "l2=l1\n",
        "l2[0]=5\n",
        "print(l1)\n",
        "print(l2)"
      ],
      "metadata": {
        "colab": {
          "base_uri": "https://localhost:8080/"
        },
        "id": "mTalAau2ich_",
        "outputId": "e9d3253d-0c94-4fb8-86ef-dc54432c4f6b"
      },
      "execution_count": null,
      "outputs": [
        {
          "output_type": "stream",
          "name": "stdout",
          "text": [
            "[5 2 3 4 5]\n",
            "[5 2 3 4 5]\n"
          ]
        }
      ]
    },
    {
      "cell_type": "code",
      "source": [
        "l3=np.array([1,2,3,4,5]) #shallow copy\n",
        "l4=l3.view()\n",
        "l3[0]=5\n",
        "print(l3)\n",
        "print(l4)"
      ],
      "metadata": {
        "colab": {
          "base_uri": "https://localhost:8080/"
        },
        "id": "vjkGl9KIiyQ_",
        "outputId": "f3062eb1-fd08-44a5-ef6d-a2c88b51466a"
      },
      "execution_count": null,
      "outputs": [
        {
          "output_type": "stream",
          "name": "stdout",
          "text": [
            "[5 2 3 4 5]\n",
            "[5 2 3 4 5]\n"
          ]
        }
      ]
    },
    {
      "cell_type": "code",
      "source": [
        "l5=np.array([1,2,3,4,5]) #deep copy\n",
        "l6=l5.copy()\n",
        "l6[0]=5\n",
        "print(l5)\n",
        "print(l6)"
      ],
      "metadata": {
        "colab": {
          "base_uri": "https://localhost:8080/"
        },
        "id": "mKHLO7VgjJmO",
        "outputId": "5e6e1dad-e481-4bc3-a627-843bb8bf1e97"
      },
      "execution_count": null,
      "outputs": [
        {
          "output_type": "stream",
          "name": "stdout",
          "text": [
            "[1 2 3 4 5]\n",
            "[5 2 3 4 5]\n"
          ]
        }
      ]
    },
    {
      "cell_type": "code",
      "source": [],
      "metadata": {
        "id": "9VtI2tVfjpvu"
      },
      "execution_count": null,
      "outputs": []
    }
  ]
}