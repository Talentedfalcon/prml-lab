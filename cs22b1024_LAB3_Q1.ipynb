{
 "cells": [
  {
   "cell_type": "code",
   "execution_count": 3,
   "metadata": {},
   "outputs": [],
   "source": [
    "import numpy as np\n",
    "import pandas as pd\n",
    "import math"
   ]
  },
  {
   "cell_type": "code",
   "execution_count": 4,
   "metadata": {},
   "outputs": [
    {
     "data": {
      "text/plain": [
       "np.float64(0.9186718493897071)"
      ]
     },
     "metadata": {},
     "output_type": "display_data"
    },
    {
     "data": {
      "text/plain": [
       "np.float64(0.9186718493897073)"
      ]
     },
     "execution_count": 4,
     "metadata": {},
     "output_type": "execute_result"
    }
   ],
   "source": [
    "fahrenheit=[98,87,90,85,95,75,92,80,88,93]\n",
    "num_customers=[15,12,10,10,16,7,14,9,11,13]\n",
    "\n",
    "data=np.array([[fahrenheit[i],num_customers[i]] for i in range(0,10)])\n",
    "df=pd.DataFrame(data,columns=['Temperature','Number of Customers'])\n",
    "\n",
    "temp1=0;\n",
    "temp2=0;\n",
    "temp3=0;\n",
    "\n",
    "for i in range(0,10):\n",
    "    temp1+=(df['Temperature'][i]-df['Temperature'].mean())*(df['Number of Customers'][i]-df['Number of Customers'].mean())\n",
    "    temp2+=(df['Temperature'][i]-df['Temperature'].mean())**2\n",
    "    temp3+=(df['Number of Customers'][i]-df['Number of Customers'].mean())**2\n",
    "\n",
    "correlation=temp1/(math.sqrt(temp2*temp3))\n",
    "\n",
    "display(correlation)\n",
    "df['Temperature'].corr(df['Number of Customers'])"
   ]
  }
 ],
 "metadata": {
  "kernelspec": {
   "display_name": "Python 3",
   "language": "python",
   "name": "python3"
  },
  "language_info": {
   "codemirror_mode": {
    "name": "ipython",
    "version": 3
   },
   "file_extension": ".py",
   "mimetype": "text/x-python",
   "name": "python",
   "nbconvert_exporter": "python",
   "pygments_lexer": "ipython3",
   "version": "3.12.4"
  }
 },
 "nbformat": 4,
 "nbformat_minor": 2
}
